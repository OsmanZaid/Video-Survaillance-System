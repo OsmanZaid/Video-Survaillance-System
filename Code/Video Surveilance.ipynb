{
 "cells": [
  {
   "cell_type": "markdown",
   "id": "12b8c6b5",
   "metadata": {},
   "source": [
    "## Importing the necessary libraries"
   ]
  },
  {
   "cell_type": "code",
   "execution_count": 1,
   "id": "793e447c",
   "metadata": {},
   "outputs": [],
   "source": [
    "import os\n",
    "import cv2\n",
    "import numpy as np\n",
    "import glob\n",
    "import imutils\n",
    "from keras.preprocessing.image import img_to_array,load_img\n",
    "from keras.layers import Conv3D,ConvLSTM2D,Conv3DTranspose\n",
    "from keras.models import Sequential\n",
    "from keras.callbacks import ModelCheckpoint, EarlyStopping"
   ]
  },
  {
   "cell_type": "code",
   "execution_count": 6,
   "id": "af0b2eef",
   "metadata": {},
   "outputs": [
    {
     "name": "stdout",
     "output_type": "stream",
     "text": [
      "C:\\Users\\win10\n"
     ]
    }
   ],
   "source": [
    "os.chdir('C:\\\\Users\\\\win10')\n",
    "owd = os.getcwd()\n",
    "print(owd)\n",
    "os.chdir(owd)"
   ]
  },
  {
   "cell_type": "markdown",
   "id": "ded1946d",
   "metadata": {},
   "source": [
    "## Setting directory path variable and Function to process and store video frames"
   ]
  },
  {
   "cell_type": "code",
   "execution_count": 2,
   "id": "d22b473a",
   "metadata": {},
   "outputs": [
    {
     "name": "stdout",
     "output_type": "stream",
     "text": [
      "['01.avi', '01.mp4', '02.avi', '02.mp4', '03.avi', '03.mp4', '04.avi', '04.mp4', '05.avi', '05.mp4', '06.avi', '06.mp4', '07.avi', '07.mp4', '08.avi', '08.mp4', '09.avi', '09.mp4', '10.avi', '10.mp4', '11.avi', '11.mp4', '12.avi', '12.mp4', '13.avi', '13.mp4', '14.avi', '14.mp4', '15.avi', '15.mp4', '16.avi', '16.mp4', '17.avi', '18.avi', '19.avi', '20.avi', '21.avi']\n"
     ]
    },
    {
     "ename": "FileExistsError",
     "evalue": "[WinError 183] Cannot create a file when that file already exists: 'C:\\\\Projects\\\\Video Surveilance\\\\Train path/frames'",
     "output_type": "error",
     "traceback": [
      "\u001b[1;31m---------------------------------------------------------------------------\u001b[0m",
      "\u001b[1;31mFileExistsError\u001b[0m                           Traceback (most recent call last)",
      "\u001b[1;32m~\\AppData\\Local\\Temp/ipykernel_13408/835950309.py\u001b[0m in \u001b[0;36m<module>\u001b[1;34m\u001b[0m\n\u001b[0;32m      5\u001b[0m \u001b[0mprint\u001b[0m\u001b[1;33m(\u001b[0m\u001b[0mtrain_videos\u001b[0m\u001b[1;33m)\u001b[0m\u001b[1;33m\u001b[0m\u001b[1;33m\u001b[0m\u001b[0m\n\u001b[0;32m      6\u001b[0m \u001b[0mtrain_images_path\u001b[0m\u001b[1;33m=\u001b[0m\u001b[0mtrain_path\u001b[0m\u001b[1;33m+\u001b[0m\u001b[1;34m'/frames'\u001b[0m\u001b[1;33m\u001b[0m\u001b[1;33m\u001b[0m\u001b[0m\n\u001b[1;32m----> 7\u001b[1;33m \u001b[0mos\u001b[0m\u001b[1;33m.\u001b[0m\u001b[0mmakedirs\u001b[0m\u001b[1;33m(\u001b[0m\u001b[0mtrain_images_path\u001b[0m\u001b[1;33m)\u001b[0m\u001b[1;33m\u001b[0m\u001b[1;33m\u001b[0m\u001b[0m\n\u001b[0m",
      "\u001b[1;32m~\\anaconda3\\lib\\os.py\u001b[0m in \u001b[0;36mmakedirs\u001b[1;34m(name, mode, exist_ok)\u001b[0m\n\u001b[0;32m    223\u001b[0m             \u001b[1;32mreturn\u001b[0m\u001b[1;33m\u001b[0m\u001b[1;33m\u001b[0m\u001b[0m\n\u001b[0;32m    224\u001b[0m     \u001b[1;32mtry\u001b[0m\u001b[1;33m:\u001b[0m\u001b[1;33m\u001b[0m\u001b[1;33m\u001b[0m\u001b[0m\n\u001b[1;32m--> 225\u001b[1;33m         \u001b[0mmkdir\u001b[0m\u001b[1;33m(\u001b[0m\u001b[0mname\u001b[0m\u001b[1;33m,\u001b[0m \u001b[0mmode\u001b[0m\u001b[1;33m)\u001b[0m\u001b[1;33m\u001b[0m\u001b[1;33m\u001b[0m\u001b[0m\n\u001b[0m\u001b[0;32m    226\u001b[0m     \u001b[1;32mexcept\u001b[0m \u001b[0mOSError\u001b[0m\u001b[1;33m:\u001b[0m\u001b[1;33m\u001b[0m\u001b[1;33m\u001b[0m\u001b[0m\n\u001b[0;32m    227\u001b[0m         \u001b[1;31m# Cannot rely on checking for EEXIST, since the operating system\u001b[0m\u001b[1;33m\u001b[0m\u001b[1;33m\u001b[0m\u001b[0m\n",
      "\u001b[1;31mFileExistsError\u001b[0m: [WinError 183] Cannot create a file when that file already exists: 'C:\\\\Projects\\\\Video Surveilance\\\\Train path/frames'"
     ]
    }
   ],
   "source": [
    "store_image=[]\n",
    "train_path='C:\\\\Projects\\\\Video Surveilance\\\\Train path'\n",
    "fps=5\n",
    "train_videos=os.listdir('C:\\\\Projects\\\\Video Surveilance\\\\Avenue_Dataset\\\\Avenue Dataset\\\\training_videos')\n",
    "print(train_videos)\n",
    "train_images_path=train_path+'/frames'\n",
    "os.makedirs(train_images_path)\n"
   ]
  },
  {
   "cell_type": "markdown",
   "id": "78fbc497",
   "metadata": {},
   "source": [
    "## Extract frames from video and call store function"
   ]
  },
  {
   "cell_type": "code",
   "execution_count": 40,
   "id": "0947eb94",
   "metadata": {
    "scrolled": false
   },
   "outputs": [
    {
     "name": "stdout",
     "output_type": "stream",
     "text": [
      "['01.avi', '01.mp4', '02.avi', '02.mp4', '03.avi', '03.mp4', '04.avi', '04.mp4', '05.avi', '05.mp4', '06.avi', '06.mp4', '07.avi', '07.mp4', '08.avi', '08.mp4', '09.avi', '09.mp4', '10.avi', '10.mp4', '11.avi', '11.mp4', '12.avi', '12.mp4', '13.avi', '13.mp4', '14.avi', '14.mp4', '15.avi', '15.mp4', '16.avi', '16.mp4', '17.avi', '18.avi', '19.avi', '20.avi', '21.avi']\n",
      "<VideoCapture 000001B1373E9CF0>\n"
     ]
    }
   ],
   "source": [
    "print(train_videos)\n",
    "os.chdir(train_images_path)\n",
    "#for video in train_videos:\n",
    "    #print(video)\n",
    "vidcap = cv2.VideoCapture('C:\\\\Projects\\\\Video Surveilance\\\\Avenue_Dataset\\\\Avenue Dataset\\\\training_videos\\\\16.mp4')\n",
    "print(vidcap)\n",
    "success,image = vidcap.read()\n",
    "count=0;\n",
    "while success:\n",
    "    cv2.imwrite(\"Vid16-%d.jpg\" % count, image)\n",
    "    success,image = vidcap.read()\n",
    "    count += 1"
   ]
  },
  {
   "cell_type": "markdown",
   "id": "3fe83395",
   "metadata": {},
   "source": [
    "## Store the store_image list in a numpy file"
   ]
  },
  {
   "cell_type": "code",
   "execution_count": null,
   "id": "df004133",
   "metadata": {},
   "outputs": [],
   "source": [
    "os.chdir(train_path)\n",
    "\n",
    "def store_inarray(image_path):\n",
    "    image=load_img(image_path)\n",
    "    image=img_to_array(image)\n",
    "    image=cv2.resize(image, (227,227), interpolation = cv2.INTER_AREA)\n",
    "    gray=0.2989*image[:,:,0]+0.5870*image[:,:,1]+0.1140*image[:,:,2]\n",
    "    store_image.append(gray)\n",
    "\n",
    "images=os.listdir(train_images_path)\n",
    "for image in images:\n",
    "    image_path=train_images_path + '/' + image\n",
    "    store_inarray(image_path)\n",
    "\n",
    "store_image=np.array(store_image)\n",
    "a,b,c = store_image.shape\n",
    "print(a,b,c)"
   ]
  },
  {
   "cell_type": "code",
   "execution_count": null,
   "id": "d0454655",
   "metadata": {},
   "outputs": [],
   "source": [
    "store_image.resize(b,c,a)\n",
    "store_image=(store_image-store_image.mean())/(store_image.std())\n",
    "store_image=np.clip(store_image,0,1)\n",
    "np.save('training.npy',store_image)"
   ]
  },
  {
   "cell_type": "code",
   "execution_count": null,
   "id": "aa8826cb",
   "metadata": {},
   "outputs": [],
   "source": [
    "stae_model=Sequential()\n",
    "stae_model.add(Conv3D(filters=128,kernel_size=(11,11,1),strides=(4,4,1),padding='valid',input_shape=(227,227,10,1),activation='tanh'))\n",
    "stae_model.add(Conv3D(filters=64,kernel_size=(5,5,1),strides=(2,2,1),padding='valid',activation='tanh'))\n",
    "stae_model.add(ConvLSTM2D(filters=64,kernel_size=(3,3),strides=1,padding='same',dropout=0.4,recurrent_dropout=0.3,return_sequences=True))\n",
    "stae_model.add(ConvLSTM2D(filters=32,kernel_size=(3,3),strides=1,padding='same',dropout=0.3,return_sequences=True))\n",
    "stae_model.add(ConvLSTM2D(filters=64,kernel_size=(3,3),strides=1,return_sequences=True, padding='same',dropout=0.5))\n",
    "stae_model.add(Conv3DTranspose(filters=128,kernel_size=(5,5,1),strides=(2,2,1),padding='valid',activation='tanh'))\n",
    "stae_model.add(Conv3DTranspose(filters=1,kernel_size=(11,11,1),strides=(4,4,1),padding='valid',activation='tanh'))\n",
    "stae_model.compile(optimizer='adam',loss='mean_squared_error',metrics=['accuracy'])"
   ]
  },
  {
   "cell_type": "code",
   "execution_count": null,
   "id": "0d6752ac",
   "metadata": {},
   "outputs": [],
   "source": [
    "training_data=np.load('training.npy')\n",
    "frames=training_data.shape[2]\n",
    "frames=frames-frames%10\n",
    "training_data=training_data[:,:,:frames]\n",
    "training_data=training_data.reshape(-1,227,227,10)\n",
    "training_data=np.expand_dims(training_data,axis=4)\n",
    "target_data=training_data.copy()\n",
    "epochs=5\n",
    "batch_size=1\n",
    "callback_save = ModelCheckpoint(\"saved_model.h5\", monitor=\"mean_squared_error\", save_best_only=True)\n",
    "callback_early_stopping = EarlyStopping(monitor='val_loss', patience=3)\n",
    "stae_model.fit(training_data,target_data, batch_size=batch_size, epochs=epochs, callbacks = [callback_save,callback_early_stopping])\n",
    "stae_model.save(\"saved_model.h5\")"
   ]
  },
  {
   "cell_type": "markdown",
   "id": "08a6dfe5",
   "metadata": {},
   "source": [
    "# TESTING"
   ]
  },
  {
   "cell_type": "code",
   "execution_count": null,
   "id": "b738c9ed",
   "metadata": {},
   "outputs": [],
   "source": [
    "import cv2\n",
    "import numpy as np \n",
    "from keras.models import load_model\n",
    "import argparse\n",
    "from PIL import Image\n",
    "import imutils"
   ]
  },
  {
   "cell_type": "code",
   "execution_count": null,
   "id": "ab9182e6",
   "metadata": {},
   "outputs": [],
   "source": [
    "def mean_squared_loss(x1,x2):\n",
    "    difference=x1-x2\n",
    "    a,b,c,d,e=difference.shape\n",
    "    n_samples=a*b*c*d*e\n",
    "    sq_difference=difference**2\n",
    "    Sum=sq_difference.sum()\n",
    "    distance=np.sqrt(Sum)\n",
    "    mean_distance=distance/n_samples\n",
    "    return mean_distance"
   ]
  },
  {
   "cell_type": "code",
   "execution_count": null,
   "id": "57672939",
   "metadata": {},
   "outputs": [],
   "source": [
    "model=load_model(\"saved_model.h5\")\n",
    "cap = cv2.VideoCapture(\"C:\\\\Projects\\\\Video Surveilance\\\\Avenue_Dataset\\\\Avenue Dataset\\\\testing_videos\\\\03.avi\")\n",
    "print(cap.isOpened())"
   ]
  },
  {
   "cell_type": "code",
   "execution_count": null,
   "id": "672d26ed",
   "metadata": {
    "scrolled": true
   },
   "outputs": [],
   "source": [
    "while cap.isOpened():\n",
    "    imagedump=[]\n",
    "    ret,frame=cap.read()\n",
    "    for i in range(10):\n",
    "        ret,frame=cap.read()\n",
    "        image = imutils.resize(frame,width=700,height=600)\n",
    "        frame=cv2.resize(frame, (227,227), interpolation = cv2.INTER_AREA)\n",
    "        gray=0.2989*frame[:,:,0]+0.5870*frame[:,:,1]+0.1140*frame[:,:,2]\n",
    "        gray=(gray-gray.mean())/gray.std()\n",
    "        gray=np.clip(gray,0,1)\n",
    "        imagedump.append(gray)\n",
    "    imagedump=np.array(imagedump)\n",
    "    imagedump.resize(227,227,10)\n",
    "    imagedump=np.expand_dims(imagedump,axis=0)\n",
    "    imagedump=np.expand_dims(imagedump,axis=4)\n",
    "    output=model.predict(imagedump)\n",
    "    loss=mean_squared_loss(imagedump,output)\n",
    "    if frame.any()==None:\n",
    "        print(\"none\")\n",
    "    if cv2.waitKey(10) & 0xFF==ord('q'):\n",
    "        break\n",
    "    if loss>0.00068:\n",
    "        print('Abnormal Event Detected')\n",
    "        cv2.putText(image,\"Abnormal Event\",(100,80),cv2.FONT_HERSHEY_SIMPLEX,2,(0,0,255),4)\n",
    "    cv2.imshow(\"video\",image)\n",
    "cap.release()\n",
    "cv2.destroyAllWindows()"
   ]
  },
  {
   "cell_type": "code",
   "execution_count": null,
   "id": "d99eeb61",
   "metadata": {},
   "outputs": [],
   "source": [
    "import cv2\n",
    "import numpy as np \n",
    "from keras.models import load_model\n",
    "import argparse\n",
    "from PIL import Image\n",
    "import imutils\n",
    "\n",
    "\n",
    "def mean_squared_loss(x1,x2):\n",
    "    difference=x1-x2\n",
    "    a,b,c,d,e=difference.shape\n",
    "    n_samples=a*b*c*d*e\n",
    "    sq_difference=difference**2\n",
    "    Sum=sq_difference.sum()\n",
    "    distance=np.sqrt(Sum)\n",
    "    mean_distance=distance/n_samples\n",
    "\n",
    "    return mean_distance\n",
    "\n",
    "\n",
    "model=load_model(\"C:\\\\Projects\\\\Video Surveilance\\\\Train path\\\\saved_model.h5\")\n",
    "\n",
    "cap = cv2.VideoCapture(\"C:\\\\Projects\\\\Video Surveilance\\\\Avenue_Dataset\\\\Avenue Dataset\\\\testing_videos\\\\03.avi\")\n",
    "print(cap.isOpened())\n",
    "\n",
    "while cap.isOpened():\n",
    "    imagedump=[]\n",
    "    ret,frame=cap.read()\n",
    "\n",
    "    for i in range(10):\n",
    "        ret,frame=cap.read()\n",
    "        image = imutils.resize(frame,width=700,height=600)\n",
    "\n",
    "        frame=cv2.resize(frame, (227,227), interpolation = cv2.INTER_AREA)\n",
    "        gray=0.2989*frame[:,:,0]+0.5870*frame[:,:,1]+0.1140*frame[:,:,2]\n",
    "        gray=(gray-gray.mean())/gray.std()\n",
    "        gray=np.clip(gray,0,1)\n",
    "        imagedump.append(gray)\n",
    "\n",
    "    imagedump=np.array(imagedump)\n",
    "\n",
    "    imagedump.resize(227,227,10)\n",
    "    imagedump=np.expand_dims(imagedump,axis=0)\n",
    "    imagedump=np.expand_dims(imagedump,axis=4)\n",
    "\n",
    "    output=model.predict(imagedump)\n",
    "\n",
    "    loss=mean_squared_loss(imagedump,output)\n",
    "\n",
    "    if frame.any()==None:\n",
    "        print(\"none\")\n",
    "\n",
    "    if cv2.waitKey(10) & 0xFF==ord('q'):\n",
    "        break\n",
    "    if loss>0.00068:\n",
    "        print('Abnormal Event Detected')\n",
    "        cv2.putText(image,\"Abnormal Event\",(100,80),cv2.FONT_HERSHEY_SIMPLEX,2,(0,0,255),4)\n",
    "\n",
    "    cv2.imshow(\"video\",image)\n",
    "\n",
    "cap.release()\n",
    "cv2.destroyAllWindows()"
   ]
  },
  {
   "cell_type": "code",
   "execution_count": null,
   "id": "7443e30f",
   "metadata": {},
   "outputs": [],
   "source": []
  }
 ],
 "metadata": {
  "kernelspec": {
   "display_name": "Python 3 (ipykernel)",
   "language": "python",
   "name": "python3"
  },
  "language_info": {
   "codemirror_mode": {
    "name": "ipython",
    "version": 3
   },
   "file_extension": ".py",
   "mimetype": "text/x-python",
   "name": "python",
   "nbconvert_exporter": "python",
   "pygments_lexer": "ipython3",
   "version": "3.9.7"
  }
 },
 "nbformat": 4,
 "nbformat_minor": 5
}
